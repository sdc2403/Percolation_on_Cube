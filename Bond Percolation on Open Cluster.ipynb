{
 "cells": [
  {
   "cell_type": "markdown",
   "metadata": {},
   "source": [
    "# Bond Percolation on Cube"
   ]
  },
  {
   "cell_type": "code",
   "execution_count": 1,
   "metadata": {},
   "outputs": [],
   "source": [
    "import pandas as pd\n",
    "import numpy as np\n",
    "import matplotlib.pyplot as plt\n",
    "import random\n",
    "import itertools\n",
    "from itertools import combinations"
   ]
  },
  {
   "cell_type": "code",
   "execution_count": 2,
   "metadata": {},
   "outputs": [
    {
     "name": "stdout",
     "output_type": "stream",
     "text": [
      "               0\n",
      "Length_1     3.0\n",
      "Length_2     6.0\n",
      "Length_3    12.0\n",
      "Length_4     9.0\n",
      "Length_5    12.0\n",
      "Length_6   -81.0\n",
      "Length_7   -75.0\n",
      "Length_8    69.0\n",
      "Length_9   473.0\n",
      "Length_10 -777.0\n",
      "Length_11  447.0\n",
      "Length_12  -91.0\n"
     ]
    }
   ],
   "source": [
    "y = np.loadtxt('y_data.dat')\n",
    "b = np.loadtxt('b_data.dat')\n",
    "a = np.loadtxt('a_data.dat')\n",
    "result = np.array(y + 3*b + 3*a)\n",
    "#print(len(result))\n",
    "\n",
    "pd_length_values = ['Length_1','Length_2','Length_3','Length_4','Length_5','Length_6','Length_7',\n",
    "                'Length_8','Length_9','Length_10','Length_11','Length_12'] # since there are 12 edges in the cube\n",
    "# creates the dataframe with changing all NaNs to 0s\n",
    "Results = pd.DataFrame(data = result, index = pd_length_values)\n",
    "\n",
    "print(Results)\n",
    "#print(Results)"
   ]
  },
  {
   "cell_type": "code",
   "execution_count": 3,
   "metadata": {},
   "outputs": [
    {
     "data": {
      "image/png": "[encoded data removed]",
      "text/plain": [
       "<Figure size 432x288 with 1 Axes>"
      ]
     },
     "metadata": {
      "needs_background": "light"
     },
     "output_type": "display_data"
    }
   ],
   "source": [
    "# Plots the expected number of wet sites on the cube of the open cluster $C_{x}$ for probability $p \\in[0,1]$.\n",
    "p_values = []\n",
    "probability_values = []\n",
    "for i in range(0,200):\n",
    "    p = random.random()\n",
    "    p_values.append(p)\n",
    "    # the expected size of the open cluster\n",
    "    probability = (1+(result[0]*p)+(result[1]*(p**2))+(result[2]*(p**3))+(result[3]*(p**4))+\n",
    "                   (result[4]*(p**5))+(result[5]*(p**6))+(result[6]*(p**7))+(result[7]*(p**8))+\n",
    "                   (result[8]*(p**9))+(result[9]*(p**10))+(result[10]*(p**11)) + (result[11]*(p**12)))\n",
    "    probability_values.append(probability)\n",
    "    \n",
    "    \n",
    "plt.scatter(p_values,probability_values)\n",
    "plt.title(\"Expected Number of Wet Sites on the Cube\")\n",
    "plt.ylabel(\"Expected Number of Wet Sites\")\n",
    "plt.xlabel(\"p values\")\n",
    "plt.show()"
   ]
  }
 ],
 "metadata": {
  "kernelspec": {
   "display_name": "Python 3",
   "language": "python",
   "name": "python3"
  },
  "language_info": {
   "codemirror_mode": {
    "name": "ipython",
    "version": 3
   },
   "file_extension": ".py",
   "mimetype": "text/x-python",
   "name": "python",
   "nbconvert_exporter": "python",
   "pygments_lexer": "ipython3",
   "version": "3.7.4"
  }
 },
 "nbformat": 4,
 "nbformat_minor": 2
}
