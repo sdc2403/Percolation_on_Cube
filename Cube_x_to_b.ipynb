{
 "cells": [
  {
   "cell_type": "markdown",
   "metadata": {},
   "source": [
    "# Self-Avoiding Paths on Cube (x <---> b)"
   ]
  },
  {
   "cell_type": "code",
   "execution_count": 1,
   "metadata": {},
   "outputs": [],
   "source": [
    "import pandas as pd\n",
    "import matplotlib.pyplot as plt\n",
    "import random\n",
    "import itertools\n",
    "from itertools import combinations"
   ]
  },
  {
   "cell_type": "markdown",
   "metadata": {},
   "source": [
    "### Initializing all self-avoiding paths on the cube"
   ]
  },
  {
   "cell_type": "code",
   "execution_count": 2,
   "metadata": {},
   "outputs": [],
   "source": [
    "# the edges of the cube \n",
    "cube_edges = ['xb','xe','xf','ab','ay','af','cb','cy','ce','dy','de','df']"
   ]
  },
  {
   "cell_type": "code",
   "execution_count": 3,
   "metadata": {},
   "outputs": [],
   "source": [
    "# all self-avoiding paths of length 1\n",
    "a1 = ['x','b'];"
   ]
  },
  {
   "cell_type": "code",
   "execution_count": 4,
   "metadata": {},
   "outputs": [],
   "source": [
    "# all self-avoiding paths of length 3\n",
    "a2 = ['x','e','c','b'];a3 = ['x','f','a','b'];"
   ]
  },
  {
   "cell_type": "code",
   "execution_count": 5,
   "metadata": {},
   "outputs": [],
   "source": [
    "# all self-avoiding paths of length 5\n",
    "a4 = ['x','f','a','y','c','b'];a5 = ['x','f','d','y','c','b'];a6 = ['x','f','d','y','a','b'];a7 = ['x','f','d','e','c','b'];\n",
    "a8 = ['x','e','d','f','a','b'];a9 = ['x','e','d','y','a','b'];a10 = ['x','e','d','y','c','b'];a11 = ['x','e','c','y','a','b'];"
   ]
  },
  {
   "cell_type": "code",
   "execution_count": 6,
   "metadata": {},
   "outputs": [],
   "source": [
    "# all self-avoiding paths of length 7\n",
    "a12 = ['x','e','d','f','a','y','c','b'];a13 = ['x','f','d','e','c','y','a','b'];a14 = ['x','e','c','y','d','f','a','b'];\n",
    "a15 = ['x','f','a','y','d','e','c','b'];"
   ]
  },
  {
   "cell_type": "code",
   "execution_count": 7,
   "metadata": {},
   "outputs": [],
   "source": [
    "# combines all self-avoiding paths to a single array\n",
    "subgraphs = [a1,a2,a3,a4,a5,a6,a7,a8,a9,a10,a11,a12,a13,a14,a15]"
   ]
  },
  {
   "cell_type": "markdown",
   "metadata": {},
   "source": [
    "### Converts the self-avoiding paths from vertex labels to edge labels"
   ]
  },
  {
   "cell_type": "code",
   "execution_count": 8,
   "metadata": {},
   "outputs": [],
   "source": [
    "i = 0 # initialization of i and j to iterate through the subgraphs and elements of each self-avoiding path, respectively\n",
    "j = 0\n",
    "for i in range(len(subgraphs)): # iterates through each self-avoidig path\n",
    "    for j in range(len(subgraphs[i])-1): # iterates through each vertex of the selected self-avoiding path (used -1 to avoid error for a[j+1])\n",
    "        a = subgraphs[i] # calls the self-avoiding path\n",
    "        b = a[j] + a[j+1] # combines the j and j+1 vertices to make the edge\n",
    "        a[j] = b # renames vertex to edge label\n",
    "    del a[-1] # removes the last term of the resulting edge labels of self-avoiding path since it is just a vertex i.e. 'y'\n",
    "    i += 1 # moves to next self-avoiding path\n",
    "\n",
    "    "
   ]
  },
  {
   "cell_type": "code",
   "execution_count": 11,
   "metadata": {},
   "outputs": [
    {
     "data": {
      "text/plain": [
       "[['xb'],\n",
       " ['xe', 'ec', 'cb'],\n",
       " ['xf', 'fa', 'ab'],\n",
       " ['xf', 'fa', 'ay', 'yc', 'cb'],\n",
       " ['xf', 'fd', 'dy', 'yc', 'cb'],\n",
       " ['xf', 'fd', 'dy', 'ya', 'ab'],\n",
       " ['xf', 'fd', 'de', 'ec', 'cb'],\n",
       " ['xe', 'ed', 'df', 'fa', 'ab'],\n",
       " ['xe', 'ed', 'dy', 'ya', 'ab'],\n",
       " ['xe', 'ed', 'dy', 'yc', 'cb'],\n",
       " ['xe', 'ec', 'cy', 'ya', 'ab'],\n",
       " ['xe', 'ed', 'df', 'fa', 'ay', 'yc', 'cb'],\n",
       " ['xf', 'fd', 'de', 'ec', 'cy', 'ya', 'ab'],\n",
       " ['xe', 'ec', 'cy', 'yd', 'df', 'fa', 'ab'],\n",
       " ['xf', 'fa', 'ay', 'yd', 'de', 'ec', 'cb']]"
      ]
     },
     "execution_count": 11,
     "metadata": {},
     "output_type": "execute_result"
    }
   ],
   "source": [
    "# prints the subgraphs as edge labels\n",
    "subgraphs"
   ]
  },
  {
   "cell_type": "markdown",
   "metadata": {},
   "source": [
    "### Find intersections of self-avoiding paths"
   ]
  },
  {
   "cell_type": "code",
   "execution_count": 12,
   "metadata": {},
   "outputs": [],
   "source": [
    "\"\"\" function: iterating_paths(subgraphs,path_combinations,results,lengths,combination_size):\n",
    "\n",
    "    purpose: - take each self-avoiding path, find all combinations of intersections with other self-avoiding paths \n",
    "               and yields the resulting intersection set\n",
    "               \n",
    "    input: - the subgraph as edge labels for , the number of paths in the intersection set, the results of each intersection set, \n",
    "                                the length of each intersection set, and the number of intersections in each intersection set \n",
    "                                \n",
    "    output: - all combinations of intersections, all results of intersecting the self-avoiding paths\n",
    "                the length of each intersection set i.e. number of edges in each intersection,\n",
    "                and the number of intersections in the intersection set\n",
    "\"\"\"\n",
    "def iterating_paths(subgraphs,path_combinations,results,lengths,combination_size):\n",
    "    comb = list(combinations(subgraphs, path_combinations)) # converts the itertools.combinations into a list\n",
    "    for k in range(len(comb)): # iterates through the entire combination of paths\n",
    "        a = list(itertools.chain(*comb[k])) # chains all of the tuples in this list i.e. [['ay'],['cy']] = [['ay','cy']]\n",
    "    #comb[k] = list(dict.fromkeys(a)) # removes some duplicates e.g. only 'ay' = 'ay' NOT 'ay'='ya'\n",
    "        b = list(dict.fromkeys(a)) # removes some duplicates e.g. only 'ay' = 'ay' NOT 'ay'='ya'\n",
    "        # this for loop removes edges duplicates that are reverses e.g. removes 'ay'='ya'\n",
    "        for c in range(len(b)): \n",
    "            edge = b[c] # edge from an intersection\n",
    "            for i in range(len(b)): # goes through all edges of intersection to find the duplicates\n",
    "                if edge == b[i] or edge[::-1] == b[i]: # if the edge is duplicated or its reverse is in the intersection\n",
    "                    b[i] = edge # replaces the duplicated/reverse with the edge\n",
    "                    i += 1 # goes to next in intersection to find other duplicates\n",
    "                else:\n",
    "                    i += 1\n",
    "        comb[k] = list(dict.fromkeys(b))# has the updated intersection list and assign it to the position in the combinations list\n",
    "        results.append(comb[k]) # appends the results of the intersection into results array\n",
    "        lengths.append(len(comb[k])) # appends the lengths of the length of the intersection i.e. number of edges in intersection\n",
    "        combination_size.append(path_combinations) # appends the number of intersections was used\n"
   ]
  },
  {
   "cell_type": "markdown",
   "metadata": {},
   "source": [
    "## Main loop to go through all intersections of self-avoiding paths"
   ]
  },
  {
   "cell_type": "code",
   "execution_count": 15,
   "metadata": {},
   "outputs": [],
   "source": [
    "# Main Loop\n",
    "results = [] # contains the results of each intersection\n",
    "lengths = [] # contains the length i.e. number of edges in each intersection\n",
    "combination_size = [] # contains how many self-avoiding paths were intersected\n",
    "for j in range(1,19): # goes through the 18 intersections\n",
    "    path_combinations = j\n",
    "    iterating_paths(subgraphs,path_combinations,results,lengths,combination_size)"
   ]
  },
  {
   "cell_type": "code",
   "execution_count": 17,
   "metadata": {},
   "outputs": [
    {
     "name": "stdout",
     "output_type": "stream",
     "text": [
      "32767\n"
     ]
    }
   ],
   "source": [
    "# total number of resulting intersection sets\n",
    "len(lengths)"
   ]
  },
  {
   "cell_type": "markdown",
   "metadata": {},
   "source": [
    "## Creates a dataframe to tally the number of each length"
   ]
  },
  {
   "cell_type": "code",
   "execution_count": 20,
   "metadata": {},
   "outputs": [],
   "source": [
    "# creating a dataframe to tally the number of certain lengths at a certain combination value\n",
    "pd_length_values = ['Length_1','Length_2','Length_3','Length_4','Length_5','Length_6','Length_7',\n",
    "                'Length_8','Length_9','Length_10','Length_11','Length_12'] # since there are 12 edges in the cube\n",
    "pd_combination_size_values = ['Combination_1','Combination_2','Combination_3','Combination_4','Combination_5',\n",
    "                              'Combination_6','Combination_7','Combination_8','Combination_9','Combination_10',\n",
    "                              'Combination_11','Combination_12','Combination_13','Combination_14','Combination_15'] # since there are 18 edges\n",
    "# creates the dataframe with changing all NaNs to 0s\n",
    "df_x_b = pd.DataFrame(columns = pd_length_values, index=pd_combination_size_values).fillna(0)\n",
    "# recall that (0,0) is the left upper most and (14,11) is right lower most\n",
    "# it goes row-by-column e.g. row 14 column 11"
   ]
  },
  {
   "cell_type": "code",
   "execution_count": 21,
   "metadata": {},
   "outputs": [],
   "source": [
    "# goes through all the combinations of intesections in the results and tallies the combination and length to dataframe\n",
    "for k in range(len(results)):\n",
    "    df_x_b.iloc[combination_size[k]-1,lengths[k]-1] +=1"
   ]
  },
  {
   "cell_type": "code",
   "execution_count": 23,
   "metadata": {},
   "outputs": [],
   "source": [
    "# copies dataframe to conduct alterations\n",
    "dataframe = df_x_b.copy()"
   ]
  },
  {
   "cell_type": "code",
   "execution_count": 24,
   "metadata": {},
   "outputs": [],
   "source": [
    "# multiplies all even intersections by -1. This comes from the intersection-exclusion principle\n",
    "for i in range(0,18):\n",
    "    if i % 2 == 0:\n",
    "        i += 1\n",
    "    else:\n",
    "        dataframe[i:i+1] = -1*dataframe[i:i+1]   "
   ]
  },
  {
   "cell_type": "code",
   "execution_count": 26,
   "metadata": {},
   "outputs": [
    {
     "name": "stdout",
     "output_type": "stream",
     "text": [
      "                Length_1  Length_2  Length_3  Length_4  Length_5  Length_6  \\\n",
      "Combination_1          1         0         2         0         8         0   \n",
      "Combination_2          0         0         0        -2         0       -15   \n",
      "Combination_3          0         0         0         0         0         0   \n",
      "Combination_4          0         0         0         0         0         0   \n",
      "Combination_5          0         0         0         0         0         0   \n",
      "Combination_6          0         0         0         0         0         0   \n",
      "Combination_7          0         0         0         0         0         0   \n",
      "Combination_8          0         0         0         0         0         0   \n",
      "Combination_9          0         0         0         0         0         0   \n",
      "Combination_10         0         0         0         0         0         0   \n",
      "Combination_11         0         0         0         0         0         0   \n",
      "Combination_12         0         0         0         0         0         0   \n",
      "Combination_13         0         0         0         0         0         0   \n",
      "Combination_14         0         0         0         0         0         0   \n",
      "Combination_15         0         0         0         0         0         0   \n",
      "Combination_16         0         0         0         0         0         0   \n",
      "Combination_17         0         0         0         0         0         0   \n",
      "Combination_18         0         0         0         0         0         0   \n",
      "\n",
      "                Length_7  Length_8  Length_9  Length_10  Length_11  Length_12  \n",
      "Combination_1          4         0         0          0          0          0  \n",
      "Combination_2        -16       -34       -26        -11         -1          0  \n",
      "Combination_3          7        40       134        194         79          1  \n",
      "Combination_4          0        -6       -47       -530       -714        -68  \n",
      "Combination_5          0         0         6        359       2092        546  \n",
      "Combination_6          0         0         0       -140      -3199      -1666  \n",
      "Combination_7          0         0         0         32       3540       2863  \n",
      "Combination_8          0         0         0         -3      -3032      -3400  \n",
      "Combination_9          0         0         0          0       2005       3000  \n",
      "Combination_10         0         0         0          0      -1001      -2002  \n",
      "Combination_11         0         0         0          0        364       1001  \n",
      "Combination_12         0         0         0          0        -91       -364  \n",
      "Combination_13         0         0         0          0         14         91  \n",
      "Combination_14         0         0         0          0         -1        -14  \n",
      "Combination_15         0         0         0          0          0          1  \n",
      "Combination_16         0         0         0          0          0          0  \n",
      "Combination_17         0         0         0          0          0          0  \n",
      "Combination_18         0         0         0          0          0          0  \n"
     ]
    }
   ],
   "source": [
    "# prints resulting dataframe that contains the coefficient of the p power for a given intersection set\n",
    "print(dataframe)"
   ]
  },
  {
   "cell_type": "code",
   "execution_count": 25,
   "metadata": {},
   "outputs": [
    {
     "data": {
      "text/plain": [
       "Length_1      1\n",
       "Length_2      0\n",
       "Length_3      2\n",
       "Length_4     -2\n",
       "Length_5      8\n",
       "Length_6    -15\n",
       "Length_7     -5\n",
       "Length_8      0\n",
       "Length_9     67\n",
       "Length_10   -99\n",
       "Length_11    55\n",
       "Length_12   -11\n",
       "dtype: int64"
      ]
     },
     "execution_count": 25,
     "metadata": {},
     "output_type": "execute_result"
    }
   ],
   "source": [
    "# adds all values in corresponding column\n",
    "dataframe.sum(axis=0) "
   ]
  },
  {
   "cell_type": "markdown",
   "metadata": {},
   "source": [
    "### Output for Various Values of p"
   ]
  },
  {
   "cell_type": "code",
   "execution_count": 29,
   "metadata": {},
   "outputs": [],
   "source": [
    "# prints graphs of expected value of wet sites of open cluster C_{x} containing vertex b for various values of p\n",
    "p_values = []\n",
    "probability_values = []\n",
    "for i in range(0,200):\n",
    "    p = random.random()\n",
    "    p_values.append(p)\n",
    "    #probability = p+2*p^(3)-2*p^(4)+8*p^(5)-15*p^(6)-5*p^(7)+67*p^(9)-99*p^(10)+55*p^(11)-11*p^(12)\n",
    "    probability = p+2*p**(3)-2*p**(4)+8*p**(5)-15*p**(6)-5*p**(7)+67*p**(9)-99*p**(10)+55*p**(11)-11*p**(12)\n",
    "    probability_values.append(probability)\n",
    "#print(probability)"
   ]
  },
  {
   "cell_type": "code",
   "execution_count": 31,
   "metadata": {},
   "outputs": [
    {
     "data": {
      "image/png": "[encoded data removed]",
      "text/plain": [
       "<Figure size 432x288 with 1 Axes>"
      ]
     },
     "metadata": {
      "needs_background": "light"
     },
     "output_type": "display_data"
    }
   ],
   "source": [
    "plt.scatter(p_values,probability_values)\n",
    "plt.title(\"Probability of Open Edges going from Vertex x to Vertex b\")\n",
    "plt.ylabel(\"Probability (x <-> b)\")\n",
    "plt.xlabel(\"p values\")\n",
    "plt.show()"
   ]
  },
  {
   "cell_type": "code",
   "execution_count": null,
   "metadata": {},
   "outputs": [],
   "source": []
  }
 ],
 "metadata": {
  "kernelspec": {
   "display_name": "Python 3",
   "language": "python",
   "name": "python3"
  },
  "language_info": {
   "codemirror_mode": {
    "name": "ipython",
    "version": 3
   },
   "file_extension": ".py",
   "mimetype": "text/x-python",
   "name": "python",
   "nbconvert_exporter": "python",
   "pygments_lexer": "ipython3",
   "version": "3.7.4"
  }
 },
 "nbformat": 4,
 "nbformat_minor": 2
}
