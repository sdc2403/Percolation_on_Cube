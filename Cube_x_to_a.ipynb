{
 "cells": [
  {
   "cell_type": "markdown",
   "metadata": {},
   "source": [
    "# Self-Avoiding Paths on Cube (x <---> a)"
   ]
  },
  {
   "cell_type": "code",
   "execution_count": 1,
   "metadata": {},
   "outputs": [],
   "source": [
    "import pandas as pd\n",
    "import matplotlib.pyplot as plt\n",
    "import random\n",
    "import itertools\n",
    "from itertools import combinations"
   ]
  },
  {
   "cell_type": "markdown",
   "metadata": {},
   "source": [
    "### Initializing all self-avoiding paths on the cube"
   ]
  },
  {
   "cell_type": "code",
   "execution_count": 2,
   "metadata": {},
   "outputs": [],
   "source": [
    "# the edges of the cube\n",
    "cube_edges = ['xb','xe','xf','ab','ay','af','cb','cy','ce','dy','de','df']"
   ]
  },
  {
   "cell_type": "code",
   "execution_count": 3,
   "metadata": {},
   "outputs": [],
   "source": [
    "# all self-avoiding paths of length 2\n",
    "a1 = ['x','b','a']; a2 = ['x','f','a'];"
   ]
  },
  {
   "cell_type": "code",
   "execution_count": 4,
   "metadata": {},
   "outputs": [],
   "source": [
    "# all self-avoiding paths of length 4\n",
    "a3 = ['x','b','c','y','a'];a4 = ['x','e','d','y','a'];a5 = ['x','e','d','f','a'];a6 = ['x','e','c','y','a'];\n",
    "a7 = ['x','f','d','y','a'];a8 = ['x','e','c','b','a'];"
   ]
  },
  {
   "cell_type": "code",
   "execution_count": 5,
   "metadata": {},
   "outputs": [],
   "source": [
    "# all self-avoiding paths of length 6\n",
    "a9 = ['x','b','c','y','d','f','a'];a10 = ['x','e','d','y','c','b','a'];a11 = ['x','e','c','y','d','f','a'];\n",
    "a12 = ['x','f','d','e','c','b','a'];a13 = ['x','f','d','e','c','y','a'];a14 = ['x','b','c','e','d','f','a'];"
   ]
  },
  {
   "cell_type": "code",
   "execution_count": 6,
   "metadata": {},
   "outputs": [],
   "source": [
    "# combines all self-avoiding paths to a single array\n",
    "subgraphs = [a1,a2,a3,a4,a5,a6,a7,a8,a9,a10,a11,a12,a13,a14]"
   ]
  },
  {
   "cell_type": "markdown",
   "metadata": {},
   "source": [
    "### Converts the self-avoiding paths from vertex labels to edge labels"
   ]
  },
  {
   "cell_type": "code",
   "execution_count": 7,
   "metadata": {},
   "outputs": [],
   "source": [
    "i = 0 # initialization of i and j to iterate through the subgraphs and elements of each self-avoiding path, respectively\n",
    "j = 0\n",
    "for i in range(len(subgraphs)): # iterates through each self-avoidig path\n",
    "    for j in range(len(subgraphs[i])-1): # iterates through each vertex of the selected self-avoiding path (used -1 to avoid error for a[j+1])\n",
    "        a = subgraphs[i] # calls the self-avoiding path\n",
    "        b = a[j] + a[j+1] # combines the j and j+1 vertices to make the edge\n",
    "        a[j] = b # renames vertex to edge label\n",
    "    del a[-1] # removes the last term of the resulting edge labels of self-avoiding path since it is just a vertex i.e. 'y'\n",
    "    i += 1 # moves to next self-avoiding path\n",
    "\n",
    "    "
   ]
  },
  {
   "cell_type": "code",
   "execution_count": 10,
   "metadata": {},
   "outputs": [
    {
     "data": {
      "text/plain": [
       "[['xb', 'ba'],\n",
       " ['xf', 'fa'],\n",
       " ['xb', 'bc', 'cy', 'ya'],\n",
       " ['xe', 'ed', 'dy', 'ya'],\n",
       " ['xe', 'ed', 'df', 'fa'],\n",
       " ['xe', 'ec', 'cy', 'ya'],\n",
       " ['xf', 'fd', 'dy', 'ya'],\n",
       " ['xe', 'ec', 'cb', 'ba'],\n",
       " ['xb', 'bc', 'cy', 'yd', 'df', 'fa'],\n",
       " ['xe', 'ed', 'dy', 'yc', 'cb', 'ba'],\n",
       " ['xe', 'ec', 'cy', 'yd', 'df', 'fa'],\n",
       " ['xf', 'fd', 'de', 'ec', 'cb', 'ba'],\n",
       " ['xf', 'fd', 'de', 'ec', 'cy', 'ya'],\n",
       " ['xb', 'bc', 'ce', 'ed', 'df', 'fa']]"
      ]
     },
     "execution_count": 10,
     "metadata": {},
     "output_type": "execute_result"
    }
   ],
   "source": [
    "subgraphs"
   ]
  },
  {
   "cell_type": "markdown",
   "metadata": {},
   "source": [
    "### Find intersections of self-avoiding paths"
   ]
  },
  {
   "cell_type": "code",
   "execution_count": 11,
   "metadata": {},
   "outputs": [],
   "source": [
    "\"\"\" function: iterating_paths(subgraphs,path_combinations,results,lengths,combination_size):\n",
    "\n",
    "    purpose: - take each self-avoiding path, find all combinations of intersections with other self-avoiding paths \n",
    "               and yields the resulting intersection set\n",
    "               \n",
    "    input: - the subgraph as edge labels for , the number of paths in the intersection set, the results of each intersection set, \n",
    "                                the length of each intersection set, and the number of intersections in each intersection set \n",
    "                                \n",
    "    output: - all combinations of intersections, all results of intersecting the self-avoiding paths\n",
    "                the length of each intersection set i.e. number of edges in each intersection,\n",
    "                and the number of intersections in the intersection set\n",
    "\"\"\"\n",
    "def iterating_paths(subgraphs,path_combinations,results,lengths,combination_size):\n",
    "    comb = list(combinations(subgraphs, path_combinations)) # converts the itertools.combinations into a list\n",
    "    for k in range(len(comb)): # iterates through the entire combination of paths\n",
    "        a = list(itertools.chain(*comb[k])) # chains all of the tuples in this list i.e. [['ay'],['cy']] = [['ay','cy']]\n",
    "    #comb[k] = list(dict.fromkeys(a)) # removes some duplicates e.g. only 'ay' = 'ay' NOT 'ay'='ya'\n",
    "        b = list(dict.fromkeys(a)) # removes some duplicates e.g. only 'ay' = 'ay' NOT 'ay'='ya'\n",
    "        # this for loop removes edges duplicates that are reverses e.g. removes 'ay'='ya'\n",
    "        for c in range(len(b)): \n",
    "            edge = b[c] # edge from an intersection\n",
    "            for i in range(len(b)): # goes through all edges of intersection to find the duplicates\n",
    "                if edge == b[i] or edge[::-1] == b[i]: # if the edge is duplicated or its reverse is in the intersection\n",
    "                    b[i] = edge # replaces the duplicated/reverse with the edge\n",
    "                    i += 1 # goes to next in intersection to find other duplicates\n",
    "                else:\n",
    "                    i += 1\n",
    "        comb[k] = list(dict.fromkeys(b))# has the updated intersection list and assign it to the position in the combinations list\n",
    "        results.append(comb[k]) # appends the results of the intersection into results array\n",
    "        lengths.append(len(comb[k])) # appends the lengths of the length of the intersection i.e. number of edges in intersection\n",
    "        combination_size.append(path_combinations) # appends the number of intersections was used\n",
    "    #return [comb,len(comb)]\n"
   ]
  },
  {
   "cell_type": "markdown",
   "metadata": {},
   "source": [
    "## Main loop to go through all intersections of self-avoiding paths"
   ]
  },
  {
   "cell_type": "code",
   "execution_count": 14,
   "metadata": {},
   "outputs": [],
   "source": [
    "# Main Loop\n",
    "results = [] # contains the results of each intersection\n",
    "lengths = [] # contains the length i.e. number of edges in each intersection\n",
    "combination_size = [] # contains how many self-avoiding paths were intersected\n",
    "for j in range(1,15): # goes through the 15 intersections\n",
    "    path_combinations = j\n",
    "    iterating_paths(subgraphs,path_combinations,results,lengths,combination_size)"
   ]
  },
  {
   "cell_type": "code",
   "execution_count": 15,
   "metadata": {},
   "outputs": [
    {
     "name": "stdout",
     "output_type": "stream",
     "text": [
      "16383\n"
     ]
    }
   ],
   "source": [
    "# total number of resulting intersection sets\n",
    "len(results)"
   ]
  },
  {
   "cell_type": "markdown",
   "metadata": {},
   "source": [
    "## Creates a dataframe to tally the number of each length"
   ]
  },
  {
   "cell_type": "code",
   "execution_count": 19,
   "metadata": {},
   "outputs": [],
   "source": [
    "# creating a dataframe to tally the number of certain lengths at a certain combination value\n",
    "pd_length_values = ['Length_1','Length_2','Length_3','Length_4','Length_5','Length_6','Length_7',\n",
    "                'Length_8','Length_9','Length_10','Length_11','Length_12'] # since there are 12 edges in the cube\n",
    "pd_combination_size_values = ['Combination_1','Combination_2','Combination_3','Combination_4','Combination_5',\n",
    "                              'Combination_6','Combination_7','Combination_8','Combination_9','Combination_10',\n",
    "                              'Combination_11','Combination_12','Combination_13','Combination_14'] # since there are 18 edges\n",
    "# creates the dataframe with changing all NaNs to 0s\n",
    "df_x_a = pd.DataFrame(columns = pd_length_values, index=pd_combination_size_values).fillna(0)\n",
    "# recall that (0,0) is the left upper most and (13,11) is right lower most\n",
    "# it goes row-by-column e.g. row 13 column 11"
   ]
  },
  {
   "cell_type": "code",
   "execution_count": 20,
   "metadata": {},
   "outputs": [],
   "source": [
    "# goes through all the combinations of intesections in the results and tallies the combination and length to dataframe\n",
    "for k in range(len(results)):\n",
    "    df_x_a.iloc[combination_size[k]-1,lengths[k]-1] +=1"
   ]
  },
  {
   "cell_type": "code",
   "execution_count": 22,
   "metadata": {},
   "outputs": [],
   "source": [
    "# copies dataframe to conduct alterations\n",
    "dataframe = df_x_a.copy()"
   ]
  },
  {
   "cell_type": "code",
   "execution_count": 23,
   "metadata": {},
   "outputs": [],
   "source": [
    "# multiplies all even intersections by -1. This comes from the intersection-exclusion principle\n",
    "for i in range(0,14):\n",
    "    if i % 2 == 0:\n",
    "        i += 1\n",
    "    else:\n",
    "        dataframe[i:i+1] = -1*dataframe[i:i+1]   "
   ]
  },
  {
   "cell_type": "code",
   "execution_count": 25,
   "metadata": {},
   "outputs": [
    {
     "name": "stdout",
     "output_type": "stream",
     "text": [
      "                Length_1  Length_2  Length_3  Length_4  Length_5  Length_6  \\\n",
      "Combination_1          0         2         0         6         0         6   \n",
      "Combination_2          0         0         0        -1        -4       -13   \n",
      "Combination_3          0         0         0         0         0         0   \n",
      "Combination_4          0         0         0         0         0         0   \n",
      "Combination_5          0         0         0         0         0         0   \n",
      "Combination_6          0         0         0         0         0         0   \n",
      "Combination_7          0         0         0         0         0         0   \n",
      "Combination_8          0         0         0         0         0         0   \n",
      "Combination_9          0         0         0         0         0         0   \n",
      "Combination_10         0         0         0         0         0         0   \n",
      "Combination_11         0         0         0         0         0         0   \n",
      "Combination_12         0         0         0         0         0         0   \n",
      "Combination_13         0         0         0         0         0         0   \n",
      "Combination_14         0         0         0         0         0         0   \n",
      "\n",
      "                Length_7  Length_8  Length_9  Length_10  Length_11  Length_12  \n",
      "Combination_1          0         0         0          0          0          0  \n",
      "Combination_2        -26       -24       -18         -5          0          0  \n",
      "Combination_3         12        58       109        130         48          7  \n",
      "Combination_4         -2       -10       -77       -340       -432       -140  \n",
      "Combination_5          0         0        36        161       1005        800  \n",
      "Combination_6          0         0        -9        -34       -934      -2026  \n",
      "Combination_7          0         0         1          3        500       2928  \n",
      "Combination_8          0         0         0          0       -167      -2836  \n",
      "Combination_9          0         0         0          0         33       1969  \n",
      "Combination_10         0         0         0          0         -3       -998  \n",
      "Combination_11         0         0         0          0          0        364  \n",
      "Combination_12         0         0         0          0          0        -91  \n",
      "Combination_13         0         0         0          0          0         14  \n",
      "Combination_14         0         0         0          0          0         -1  \n"
     ]
    }
   ],
   "source": [
    "# prints resulting dataframe that contains the coefficient of the p power for a given intersection set\n",
    "print(dataframe)"
   ]
  },
  {
   "cell_type": "code",
   "execution_count": 24,
   "metadata": {},
   "outputs": [
    {
     "data": {
      "text/plain": [
       "Length_1      0\n",
       "Length_2      2\n",
       "Length_3      0\n",
       "Length_4      5\n",
       "Length_5     -4\n",
       "Length_6     -7\n",
       "Length_7    -16\n",
       "Length_8     24\n",
       "Length_9     42\n",
       "Length_10   -85\n",
       "Length_11    50\n",
       "Length_12   -10\n",
       "dtype: int64"
      ]
     },
     "execution_count": 24,
     "metadata": {},
     "output_type": "execute_result"
    }
   ],
   "source": [
    "# adds all values in corresponding column\n",
    "dataframe.sum(axis=0) "
   ]
  },
  {
   "cell_type": "markdown",
   "metadata": {},
   "source": [
    "### Output for Various Values of p"
   ]
  },
  {
   "cell_type": "code",
   "execution_count": 28,
   "metadata": {},
   "outputs": [],
   "source": [
    "# prints graphs of expected value of wet sites of open cluster C_{x} containing vertex a for various values of p\n",
    "p_values = []\n",
    "probability_values = []\n",
    "for i in range(0,200):\n",
    "    p = random.random()\n",
    "    p_values.append(p)\n",
    "    #probability = 2*p^(2)+5*p^(4)-4*p^(5)-7*p^(6)-16*p^(7)+24*p^(8)+42*p^(9)-85*p^(10)+50*p^(11)-10*p^(12)\n",
    "    probability = 2*p**(2)+5*p**(4)-4*p**(5)-7*p**(6)-16*p**(7)+24*p**(8)+42*p**(9)-85*p**(10)+50*p**(11)-10*p**(12)\n",
    "    probability_values.append(probability)\n",
    "#print(probability)"
   ]
  },
  {
   "cell_type": "code",
   "execution_count": 29,
   "metadata": {},
   "outputs": [
    {
     "data": {
      "image/png": "[encoded data removed]",
      "text/plain": [
       "<Figure size 432x288 with 1 Axes>"
      ]
     },
     "metadata": {
      "needs_background": "light"
     },
     "output_type": "display_data"
    }
   ],
   "source": [
    "plt.scatter(p_values,probability_values)\n",
    "plt.title(\"Probability of Open Edges going from Vertex x to Vertex a\")\n",
    "plt.ylabel(\"Probability (x <-> a)\")\n",
    "plt.xlabel(\"p values\")\n",
    "plt.show()"
   ]
  },
  {
   "cell_type": "code",
   "execution_count": null,
   "metadata": {},
   "outputs": [],
   "source": []
  }
 ],
 "metadata": {
  "kernelspec": {
   "display_name": "Python 3",
   "language": "python",
   "name": "python3"
  },
  "language_info": {
   "codemirror_mode": {
    "name": "ipython",
    "version": 3
   },
   "file_extension": ".py",
   "mimetype": "text/x-python",
   "name": "python",
   "nbconvert_exporter": "python",
   "pygments_lexer": "ipython3",
   "version": "3.7.4"
  }
 },
 "nbformat": 4,
 "nbformat_minor": 2
}
